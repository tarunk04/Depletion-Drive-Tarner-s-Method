{
 "cells": [
  {
   "cell_type": "markdown",
   "metadata": {},
   "source": [
    "# Solution to Depletion Drive Reservoir using Tarner's Method\n"
   ]
  },
  {
   "cell_type": "markdown",
   "metadata": {},
   "source": [
    "## Introdution \n",
    "------------\n",
    "<font size =3.5>This project is targeted to calculate the future performance of a depletion drive reservoir system using a computer program that can reduce the time of computation and also give more in-depth analysis at one go. This notebook is the demonstration of the project and the steps of solving for depletion drive using Tarner's Method. Tarner's Method is based on the MBE trial and error technique that uses an iterative method to approximate the cumulative oil production at each required pressure stages of depletion.</font>\n",
    "\n",
    "### Algorithm Flow diagram\n",
    "![Img]()"
   ]
  },
  {
   "cell_type": "markdown",
   "metadata": {},
   "source": [
    "### Python for caluation\n",
    "-----------------\n",
    "\n",
    "Importing Useful libraries for calculation"
   ]
  },
  {
   "cell_type": "code",
   "execution_count": 1,
   "metadata": {},
   "outputs": [],
   "source": [
    "#Important Imports\n",
    "import numpy as np \n",
    "from scipy.optimize import curve_fit  \n",
    "from matplotlib import pyplot as plt\n",
    "from matplotlib import ticker  \n",
    "\n",
    "%matplotlib inline"
   ]
  },
  {
   "cell_type": "markdown",
   "metadata": {},
   "source": [
    "## Sample Reservoir Data\n",
    "-----------------------\n",
    "Avg. Depht = 6500<br>\n",
    "Original Reservoir Pressure = 2925 psia<br>\n",
    "Reservoir Saturation Pressure = 2100 psia<br>\n",
    "Reservoir temperature = 175 °F<br>\n",
    "Initial Water Saturation = 15%<br>\n",
    "Original Oil in place N = 100,000,000 STB (from geologic data)<br>\n",
    "--No gas cap<br>\n",
    "-- NO Water Drive<br>\n",
    "Specific Gravity of gas = 0.7<br>\n",
    "\n",
    "### Table 1\n",
    "---------------------\n",
    "<table width=\"80%\"> \n",
    "    <tr>\n",
    "        <th>Pressure</th>\n",
    "        <th>Z</th>\n",
    "        <th>R<sub>s</sub></th>\n",
    "        <th>B<sub>o</sub></th>\n",
    "        <th>µ<sub>o</sub>/µ<sub>g</sub></th>\n",
    "    </tr>\n",
    "    <tr>\n",
    "        <td>2100</td>\n",
    "        <td>0.842</td>\n",
    "        <td>1340</td>\n",
    "        <td>1.480</td>\n",
    "        <td>34.1</td>\n",
    "    </tr>\n",
    "    <tr>\n",
    "        <td>1800</td>\n",
    "        <td>0.854</td>\n",
    "        <td>1280</td>\n",
    "        <td>1.468</td>\n",
    "        <td>38.3</td>\n",
    "    </tr>\n",
    "    <tr>\n",
    "        <td>1500</td>\n",
    "        <td>0.869</td>\n",
    "        <td>1500</td>\n",
    "        <td>1.440</td>\n",
    "        <td>42.4</td>\n",
    "    </tr>\n",
    "    <tr>\n",
    "        <td>1200</td>\n",
    "        <td>0.888</td>\n",
    "        <td>985</td>\n",
    "        <td>1.399</td>\n",
    "        <td>48.8</td>\n",
    "    </tr>\n",
    "    <tr>\n",
    "        <td>1000</td>\n",
    "        <td>0.901</td>\n",
    "        <td>860</td>\n",
    "        <td>1.360</td>\n",
    "        <td>53.6</td>\n",
    "    </tr>\n",
    "    <tr>\n",
    "        <td>700</td>\n",
    "        <td>0.929</td>\n",
    "        <td>662</td>\n",
    "        <td>1.287</td>\n",
    "        <td>62.5</td>\n",
    "    </tr>\n",
    "    <tr>\n",
    "        <td>400</td>\n",
    "        <td>0.960</td>\n",
    "        <td>465</td>\n",
    "        <td>1.202</td>\n",
    "        <td>79.0</td>\n",
    "    </tr>\n",
    "</table>"
   ]
  },
  {
   "cell_type": "code",
   "execution_count": 2,
   "metadata": {},
   "outputs": [],
   "source": [
    "# Data variable\n",
    "Pressure = np.asarray([2100,1800,1500,1200,1000,700,400])\n",
    "Rs = np.asarray([1340,1280,1150,985,860,662,465])\n",
    "Bo = np.asarray([1.48,1.468,1.440,1.399,1.360,1.287,1.202])\n",
    "vis_ratio = np.asarray([34.1,38.3,42.4,48.8,53.6,62.5,79.0])\n",
    "Z = np.asarray([0.842,0.854,0.869,0.888,0.901,0.929,0.960])"
   ]
  },
  {
   "cell_type": "markdown",
   "metadata": {},
   "source": [
    "## Calculation of Bg and Bt\n",
    "------------\n",
    "#### Calculation of B<sub>g</sub> :\n",
    "B<sub>g</sub> = (P<sub>s</sub>V<sub>s</sub>)ZT<sub>p</sub> / (PZ<sub>s</sub>T<sub>s</sub>x5.615)\n",
    "<br>\n",
    "#### Calculation of B<sub>t</sub> :\n",
    "B<sub>t</sub> = B<sub>o</sub> + B<sub>g</sub> (R<sub>si</sub> - R<sub>s</sub>)"
   ]
  },
  {
   "cell_type": "code",
   "execution_count": 11,
   "metadata": {},
   "outputs": [],
   "source": [
    "# Function to calculate Bg\n",
    "def cal_Bg(Z , P):\n",
    "    return (14.7*1*Z*(460+175))/(Pressure*1*520*5.615)\n",
    "\n",
    "# Function to calculate Bt\n",
    "def cal_Bt(Bo, Bg, Rsi, Rs):\n",
    "    return Bo + (Rsi - Rs)* Bg"
   ]
  },
  {
   "cell_type": "code",
   "execution_count": 4,
   "metadata": {},
   "outputs": [
    {
     "data": {
      "text/plain": [
       "(array([1.48      , 1.55900695, 1.79190065, 2.23884285, 2.74262366,\n",
       "        4.16363873, 7.91562765]),\n",
       " array([0.00128183, 0.00151678, 0.00185211, 0.00236575, 0.00288047,\n",
       "        0.00424283, 0.00767272]))"
      ]
     },
     "execution_count": 4,
     "metadata": {},
     "output_type": "execute_result"
    }
   ],
   "source": [
    "# Calculation Of Bt\n",
    "Bg = cal_Bg(Z , Pressure)\n",
    "Bt = cal_Bt(Bo, Bg, Rs[0], Rs)\n",
    "Bt, Bg"
   ]
  },
  {
   "cell_type": "markdown",
   "metadata": {},
   "source": [
    "## Calculation at Different Pressure\n",
    "------------\n",
    "### Formulas:\n",
    "<b>\n",
    "* G<sub>mbl</sub> = N<sub>p1</sub> R<sub>p1</sub> = (N(B<sub>t</sub> - B<sub>ts</sub>) - N<sub>p</sub> (B<sub>t</sub>- R<sub>ss</sub> B<sub>g</sub>)) / B<sub>g</sub>\n",
    "<br>\n",
    "\n",
    "* S<sub>o</sub> = (1 - N<sub>p</sub>/N) (B<sub>o</sub>/B<sub>os</sub>) (1 - S<sub>wi</sub>) </b>\n",
    "\n",
    "Using this S<sub>o</sub> and the equation formed using curve fitting (Kg.Ko vs So Plot.ipynb) can be used to calculate\n",
    "<b>K<sub>g</sub>/K<sub>o</sub></b>.\n",
    "<img src=\"Kg_KovsSo.png\" width=70%><br>\n",
    "* A least square fit is used for curve fitting. equivalent equation for K<sub>g</sub>/K<sub>o</sub> is as follows: \n",
    "<br><b>K<sub>g</sub>/K<sub>o</sub> = e<sup>f(S<sub>o</sub>)</sup></b>. <br><br>\n",
    "*where:* <br> <b>f(S<sub>o</sub>) = 31.457 - 1.781 * S<sub>o</sub> + 0.041 * S<sub>o</sub><sup>2</sup> - 0.00044 * S<sub>o</sub><sup>3</sup> + 1.633 * S<sub>o</sub><sup>4</sup>  </b>\n",
    "\n",
    "\n",
    "* <b>R<sub>1</sub> = (K<sub>g</sub>/K<sub>o</sub>) (µ<sub>o</sub>/µ<sub>g</sub>) (B<sub>o</sub>/B<sub>g</sub>) + R<sub>s</sub></b>\n",
    "\n",
    "* <b>G<sub>gor1</sub> = 0.5 \\*(R<sub>1</sub>+ R<sub>ss</sub>) N<sub>p1</sub>"
   ]
  },
  {
   "cell_type": "code",
   "execution_count": 23,
   "metadata": {},
   "outputs": [],
   "source": [
    "# Coefficients of f(so)\n",
    "coeff = [ -2.17631817e+01,  1.93353134e+00, -5.39629422e-02,  6.26273665e-04,-2.73300444e-06]"
   ]
  },
  {
   "cell_type": "code",
   "execution_count": 24,
   "metadata": {},
   "outputs": [],
   "source": [
    "# Function to calculate Gmb\n",
    "def cal_gmb(Np, Bt, Bti, Bg, Rss,CGppp):\n",
    "    \"\"\"\n",
    "    Np   : Assumed Np/N ratio\n",
    "    Bt   : Bt at Required Presure\n",
    "    Bti  : Bt at Initial Pressure Reservoir Pressure\n",
    "    Bg   : Bg at required Pressure\n",
    "    Rss  : Initial GOR \n",
    "    CGppp: Cumulative Gas Production upto perivious pressure stage\n",
    "    \n",
    "    Return:\n",
    "    Gmb : \n",
    "    \"\"\"\n",
    "    return (((Bt-Bti)- Np*(Bt - Rss*Bg))/ Bg ) - CGppp \n",
    "\n",
    "# Function to calculate So\n",
    "def cal_so(Np, Bo, Boi, Swi):\n",
    "    return (1- Np)*(Bo/Boi)*(1-Swi)\n",
    "\n",
    "# Function to calculate Kg/Ko\n",
    "def cal_kg_ko(So, *params):\n",
    "    n =0\n",
    "    r = np.zeros(So.shape)\n",
    "    for param in params:\n",
    "            r = r + param*np.power(So,n)\n",
    "            n = n + 1\n",
    "    return np.exp(r)\n",
    "\n",
    "# Function to calculate R\n",
    "def cal_R(kg_ko, vis_ratio, Bo, Bg, Rs):\n",
    "    return kg_ko*vis_ratio*(Bo/Bg)+ Rs\n",
    "\n",
    "# Function to calculate Ggor\n",
    "def cal_Ggor(Np, Rp, R, CNppp):\n",
    "    return 0.5 * (Rp + R) * (Np-CNppp)\n",
    "    \n",
    "# # Function to calculate Gmb1 and Ggor1\n",
    "# def cal_trail(Np,Bo,Boi,Bt,Bti,Bg,Rs,Rss,Rp,vis_ratio,CGppp,CNppp, Swi,K_coeff):\n",
    "#     Gmb = cal_gmb(Np , Bt, Bti, Bg, Rss,CGppp)\n",
    "#     So = cal_so(Np,Bo,Boi,Swi)\n",
    "#     K_ratio = cal_kg_ko(So, *K_coeff)\n",
    "#     R = cal_R(K_ratio, vis_ratio, Bo,Bg,Rs)\n",
    "#     Ggor = cal_Ggor(Np,Rp,R,CNppp)\n",
    "    \n",
    "#     return Gmb, Ggor, Gmb-Ggor"
   ]
  },
  {
   "cell_type": "code",
   "execution_count": 83,
   "metadata": {},
   "outputs": [],
   "source": [
    "# Function to calculate Gmb1 and Ggor1\n",
    "def cal_trail(Np,Bo,Boi,Bt,Bti,Bg,Rs,Rss,Rp,vis_ratio,CGppp,CNppp, Swi,K_coeff):\n",
    "    Gmb = cal_gmb(Np , Bt, Bti, Bg, Rss,CGppp)\n",
    "    So = cal_so(Np,Bo,Boi,Swi)\n",
    "    K_ratio = cal_kg_ko(So, *K_coeff)\n",
    "    R = cal_R(K_ratio, vis_ratio, Bo,Bg,Rs)\n",
    "    Ggor = cal_Ggor(Np,Rp,R,CNppp)\n",
    "    \n",
    "    return Gmb, Ggor, Gmb-Ggor"
   ]
  },
  {
   "cell_type": "code",
   "execution_count": 79,
   "metadata": {},
   "outputs": [
    {
     "name": "stdout",
     "output_type": "stream",
     "text": [
      "[[55.210135099790385, 15.013999857940872, 40.19613524184951], [61.4533722260964, 47.7344198823413, 13.718952343755099], [64.5749907892494, 66.01978333437343, -1.4447925451240309]]\n"
     ]
    },
    {
     "data": {
      "text/plain": [
       "array([[55.2101351 , 15.01399986, 40.19613524],\n",
       "       [61.45337223, 47.73441988, 13.71895234],\n",
       "       [64.57499079, 66.01978333, -1.44479255]])"
      ]
     },
     "execution_count": 79,
     "metadata": {},
     "output_type": "execute_result"
    }
   ],
   "source": [
    "Np_list = [0.01,0.03,0.04]\n",
    "data = [cal_trail(Np, Bo[1],Bo[0], Bt[1],Bt[0],Bg[1], Rs[1], Rs[0], vis_ratio[1], 0.15, coeff) for Np in Np_list ]\n",
    "print(data)\n",
    "data = np.asarray(data)\n",
    "data"
   ]
  },
  {
   "cell_type": "code",
   "execution_count": 26,
   "metadata": {},
   "outputs": [],
   "source": [
    "#starting Np\n",
    "def solve_for_Np(Np_cal,Gp_cal,Rp_cal, Bo, Bg, Bt, Rs, vis_ratio,K_coeff, Swi = 0.15, delta = 0.01,index = 1, Np = 0.01):\n",
    "    Bti = Bt[0]\n",
    "    Boi = Bo[0]\n",
    "    Rss = Rs[0]\n",
    "    \n",
    "    CGppp = np.sum(Gp_cal[:index])\n",
    "    CNppp = Np_cal[index-1]\n",
    "    \n",
    "    Rp = Rp_cal[index-1]\n",
    "    \n",
    "#     print(CGppp)\n",
    "    \n",
    "    curr_Gmb, curr_Gogr, prev_diff= cal_trail(Np, Bo[index],Boi, Bt[index],Bti,Bg[index], Rs[index], Rss, Rp,\n",
    "                                               vis_ratio[index],CGppp,CNppp, 0.15, K_coeff)\n",
    "    print(curr_Gmb, curr_Gogr)\n",
    "    sign_change = False\n",
    "    curr_diff = prev_diff\n",
    "    l_Np = Np\n",
    "    r_Np = Np\n",
    "    while abs(curr_diff) > 0.00001:\n",
    "#         print(curr_diff,\"  \",Np)\n",
    "        if(sign_change == False):\n",
    "            if(curr_diff > 0):\n",
    "                Np = Np + delta\n",
    "            else:\n",
    "                Np = Np - delta\n",
    "        else:\n",
    "            Np = (l_Np + r_Np)*0.5 \n",
    "        curr_Gmb, curr_Gogr, curr_diff = cal_trail(Np, Bo[index],Boi, Bt[index],Bti,Bg[index], Rs[index],Rss, Rp,\n",
    "                                               vis_ratio[index],CGppp,CNppp, 0.15, K_coeff)\n",
    "        if(curr_diff * prev_diff < 0 ) :\n",
    "            sign_change = True\n",
    "        elif sign_change == False:\n",
    "            l_Np = Np\n",
    "            r_Np = Np\n",
    "        if(sign_change == True):\n",
    "            if(curr_diff > 0):\n",
    "                l_Np = Np\n",
    "            elif(curr_diff < 0):\n",
    "                r_Np = Np\n",
    "        prev_diff = curr_diff\n",
    "        \n",
    "    return curr_Gmb , Np , (curr_Gmb/(Np-CNppp) * 2) - Rp_cal[index-1]\n",
    "# solve_for_Np( Bo, Bg, Bt, Rs, vis_ratio, coeff,Swi = 0.15 )  "
   ]
  },
  {
   "cell_type": "code",
   "execution_count": 220,
   "metadata": {},
   "outputs": [
    {
     "name": "stdout",
     "output_type": "stream",
     "text": [
      "55.210135099790385 15.013999857940872\n",
      "122.7369507063949 22.529509400141162\n",
      "165.50091485486354 127.34188779689549\n",
      "121.86185866895767 95.46382483771447\n"
     ]
    },
    {
     "data": {
      "text/plain": [
       "(123.16463241278507, 0.14335892677307127, 8962.567159122864)"
      ]
     },
     "execution_count": 220,
     "metadata": {},
     "output_type": "execute_result"
    }
   ],
   "source": [
    "Gp_cal = np.zeros(7)\n",
    "Np_cal = np.zeros(7)\n",
    "Rp_cal = np.zeros(7)\n",
    "Rp_cal[0] = Rs[0]\n",
    "Gp_cal[1] , Np_cal[1], Rp_cal[1] = solve_for_Np(Np_cal,Gp_cal,Rp_cal,Bo, Bg, Bt, Rs, vis_ratio, coeff, Swi = 0.15 , index = 1)\n",
    "Gp_cal[2] , Np_cal[2], Rp_cal[2] = solve_for_Np(Np_cal,Gp_cal,Rp_cal,Bo, Bg, Bt, Rs, vis_ratio, coeff, Swi = 0.15 , index = 2,Np = 0.05)\n",
    "# Rp_cal[2] = 3584\n",
    "Gp_cal[3] , Np_cal[3], Rp_cal[3] = solve_for_Np(Np_cal,Gp_cal,Rp_cal,Bo, Bg, Bt, Rs, vis_ratio, coeff, Swi = 0.15 , index = 3,Np = 0.12)\n",
    "solve_for_Np(Np_cal,Gp_cal,Rp_cal,Bo, Bg, Bt, Rs, vis_ratio, coeff, Swi = 0.15 , index = 4,Np = 0.14)"
   ]
  },
  {
   "cell_type": "code",
   "execution_count": 214,
   "metadata": {},
   "outputs": [
    {
     "data": {
      "text/plain": [
       "array([1340.        , 1949.26746143, 3584.        ,    0.        ,\n",
       "          0.        ,    0.        ,    0.        ])"
      ]
     },
     "execution_count": 214,
     "metadata": {},
     "output_type": "execute_result"
    }
   ],
   "source": [
    "Rp_cal"
   ]
  },
  {
   "cell_type": "code",
   "execution_count": 215,
   "metadata": {},
   "outputs": [
    {
     "data": {
      "text/plain": [
       "(array([  0.        ,  64.29143678, 138.20653827,   0.        ,\n",
       "          0.        ,   0.        ,   0.        ]),\n",
       " array([0.        , 0.03909164, 0.09152822, 0.        , 0.        ,\n",
       "        0.        , 0.        ]))"
      ]
     },
     "execution_count": 215,
     "metadata": {},
     "output_type": "execute_result"
    }
   ],
   "source": [
    "Gp_cal , Np_cal"
   ]
  },
  {
   "cell_type": "code",
   "execution_count": 61,
   "metadata": {},
   "outputs": [],
   "source": [
    "#Curve Fitting Function\n",
    "def curve_fit_function(x, *params):\n",
    "    n =0\n",
    "    r = np.zeros(x.shape)\n",
    "    for param in params:\n",
    "            r = r + param*np.power(x,n)\n",
    "            n = n + 1\n",
    "    return r"
   ]
  },
  {
   "cell_type": "code",
   "execution_count": 63,
   "metadata": {},
   "outputs": [
    {
     "name": "stderr",
     "output_type": "stream",
     "text": [
      "D:\\Program\\lib\\site-packages\\scipy\\optimize\\minpack.py:785: OptimizeWarning: Covariance of the parameters could not be estimated\n",
      "  category=OptimizeWarning)\n"
     ]
    },
    {
     "data": {
      "text/plain": [
       "array([5.78943286e-01, 1.37933388e+03, 6.41717813e+03])"
      ]
     },
     "execution_count": 63,
     "metadata": {},
     "output_type": "execute_result"
    }
   ],
   "source": [
    "# Degree Of Polyinomial\n",
    "degree = 3\n",
    "# Initialisizing array with shape [1, degree]\n",
    "p = np.ones([1,degree])\n",
    "\n",
    "# Curve Fitting\n",
    "param, param_cov = curve_fit(curve_fit_function, Np_list, data[:,1:].reshape([1,3])[0], p0 = p) \n",
    "param"
   ]
  },
  {
   "cell_type": "code",
   "execution_count": 77,
   "metadata": {
    "scrolled": false
   },
   "outputs": [
    {
     "data": {
      "image/png": "[encoded data removed]",
      "text/plain": [
       "<Figure size 720x720 with 1 Axes>"
      ]
     },
     "metadata": {},
     "output_type": "display_data"
    }
   ],
   "source": [
    "# Defining Matplotlib Figure\n",
    "f = plt.figure(num=None, figsize=(10,10))\n",
    "\n",
    "# Sub plot\n",
    "ax = f.add_subplot(111)\n",
    "\n",
    "plt.plot(Np_list , data[:,0:1] , c = 'r' , label = 'MB Equation')\n",
    "plt.plot(Np_list , data[:,1:] , c = 'b', label = 'GOR Equation')\n",
    "\n",
    "# a = np.argwhere(np.diff(np.sign(data[:,0:1].reshape([1,3])[0] - data[:,1:].reshape([1,3])[0]))).flatten()\n",
    "# plt.plot(Np_list[a], data[:,0:1][a], 'ro')\n",
    "\n",
    "# Tick-Parameters\n",
    "ax.xaxis.set_minor_locator(ticker.AutoMinorLocator())\n",
    "ax.yaxis.set_minor_locator(ticker.AutoMinorLocator())\n",
    "ax.tick_params(which='both', width=1)\n",
    "ax.tick_params(which='major', length=6)\n",
    "ax.tick_params(which='minor', length=3, color='0.8')\n",
    "\n",
    "# Grid\n",
    "plt.grid(lw = 1, ls = '-', c = \"0.7\", which = 'major')\n",
    "plt.grid(lw = 1, ls = '-', c = \"0.9\", which = 'minor')\n",
    "\n",
    "# Legend Location\n",
    "plt.legend(loc = \"best\")\n",
    "\n",
    "# Title and Axes labels\n",
    "plt.title(\"Determining the true value of Np\",{'fontsize':22})\n",
    "axis_label = [\"Np/N\",\"G1\"]\n",
    "xl = plt.xlabel(axis_label[0])\n",
    "yl = plt.ylabel(axis_label[1])\n",
    "\n",
    "# Grid\n",
    "plt.grid(lw = 1, ls = '-', c = \"0.7\", which = 'major')\n",
    "plt.grid(lw = 1, ls = '-', c = \"0.9\", which = 'minor')\n",
    "\n",
    "plt.show()"
   ]
  },
  {
   "cell_type": "code",
   "execution_count": 76,
   "metadata": {},
   "outputs": [
    {
     "data": {
      "text/plain": [
       "array([1], dtype=int64)"
      ]
     },
     "execution_count": 76,
     "metadata": {},
     "output_type": "execute_result"
    }
   ],
   "source": [
    "np.argwhere(np.diff(np.sign(data[:,0:1].reshape([1,3])[0] - data[:,1:].reshape([1,3])[0]))).flatten()"
   ]
  },
  {
   "cell_type": "code",
   "execution_count": 69,
   "metadata": {},
   "outputs": [
    {
     "data": {
      "text/plain": [
       "array([], shape=(3, 0), dtype=float64)"
      ]
     },
     "execution_count": 69,
     "metadata": {},
     "output_type": "execute_result"
    }
   ],
   "source": [
    "np.diff(np.sign(data[:,0:1] - data[:,1:]))"
   ]
  },
  {
   "cell_type": "code",
   "execution_count": 72,
   "metadata": {},
   "outputs": [
    {
     "data": {
      "text/plain": [
       "array([], shape=(3, 0), dtype=float64)"
      ]
     },
     "execution_count": 72,
     "metadata": {},
     "output_type": "execute_result"
    }
   ],
   "source": [
    "np.diff(data[:,0:1] - data[:,1:])"
   ]
  },
  {
   "cell_type": "code",
   "execution_count": null,
   "metadata": {},
   "outputs": [],
   "source": []
  },
  {
   "cell_type": "code",
   "execution_count": 14,
   "metadata": {},
   "outputs": [
    {
     "name": "stdout",
     "output_type": "stream",
     "text": [
      "Enter initial reservoir pressure (psi): 2925\n",
      "Enter bubble point pressure (psi): 2100\n",
      "Enter initial oil in place (STB): 10000000\n",
      "Enter Connate-water saturation (%): 15\n",
      "Enter compressibility of water (1/psi):0.0000036\n",
      "Enter compressbility of formation (1/psi):0.0000049\n"
     ]
    }
   ],
   "source": [
    "pi = valid_input(\"Enter initial reservoir pressure (psi): \", reason=\"Initial reservoir pressure is required.\")\n",
    "pb = valid_input(\"Enter bubble point pressure (psi): \", reason=\"Bubble point pressure is required.\")\n",
    "oip = valid_input(\"Enter initial oil in place (STB): \", reason=\"Initial oil in place is required.\")\n",
    "Sw = valid_input(\"Enter Connate-water saturation (%): \", reason=\"Connate-water saturation is required.\")\n",
    "Cw = valid_input(\"Enter compressibility of water (1/psi):\",skip = True)\n",
    "Cf = valid_input(\"Enter compressbility of formation (1/psi):\",skip = True)"
   ]
  },
  {
   "cell_type": "code",
   "execution_count": null,
   "metadata": {},
   "outputs": [],
   "source": []
  },
  {
   "cell_type": "code",
   "execution_count": null,
   "metadata": {},
   "outputs": [],
   "source": [
    "# Data variable\n",
    "Pressure = np.asarray([2100,1800,1500,1200,1000,700,400])\n",
    "Rs = np.asarray([1340,1280,1150,985,860,662,465])\n",
    "Bo = np.asarray([1.48,1.468,1.440,1.399,1.360,1.287,1.202])\n",
    "vis_ratio = np.asarray([34.1,38.3,42.4,48.8,53.6,62.5,79.0])\n",
    "Z = np.asarray([0.842,0.854,0.869,0.888,0.901,0.929,0.960])\n"
   ]
  },
  {
   "cell_type": "code",
   "execution_count": 7,
   "metadata": {},
   "outputs": [],
   "source": [
    "def valid_input(des, input_type = \"single\", skip = False, reason = \"Input Requried\"):\n",
    "    user_input = \"\"\n",
    "    while True and input_type==\"single\":\n",
    "        try:\n",
    "            user_input = input(des)\n",
    "            user_input = float(user_input)\n",
    "            break\n",
    "        except:\n",
    "            if skip != True and user_input=='':\n",
    "                print(reason)\n",
    "            elif skip == True and user_input=='':\n",
    "                break\n",
    "            else:\n",
    "                print(\"Invalid Input. Text not allowed.\")\n",
    "    while True and input_type==\"multi\":\n",
    "        try:\n",
    "            user_input = input(des)\n",
    "            user_input = np.float32(np.asarray(user_input.split(\",\")))\n",
    "            break\n",
    "        except:\n",
    "            print(\"Invalid Input. Text not allowed.\")\n",
    "    return user_input"
   ]
  },
  {
   "cell_type": "code",
   "execution_count": 51,
   "metadata": {},
   "outputs": [],
   "source": [
    "Gp_cal = np.zeros(3)\n",
    "Np_cal = np.zeros(3)\n",
    "Rp_cal = np.zeros(3)\n",
    "Rp_cal[0] = Rs[0]\n",
    "Gp_cal[1] , Np_cal[1], Rp_cal[1] = solve_for_Np(Np_cal,Gp_cal,Rp_cal,Bo, Bg, Bt, Rs, vis_ratio, coeff, Swi = 0.15 , index = 1)\n",
    "Gp_cal[2] , Np_cal[2], Rp_cal[2] = solve_for_Np(Np_cal,Gp_cal,Rp_cal,Bo, Bg, Bt, Rs, vis_ratio, coeff, Swi = 0.15 , index = 2,Np = 0.05)\n",
    "# Rp_cal[2] = 3584\n",
    "# Gp_cal[3] , Np_cal[3], Rp_cal[3] = solve_for_Np(Np_cal,Gp_cal,Rp_cal,Bo, Bg, Bt, Rs, vis_ratio, coeff, Swi = 0.15 , index = 3,Np = 0.12)\n",
    "# solve_for_Np(Np_cal,Gp_cal,Rp_cal,Bo, Bg, Bt, Rs, vis_ratio, coeff, Swi = 0.15 , index = 4,Np = 0.14)"
   ]
  },
  {
   "cell_type": "code",
   "execution_count": 195,
   "metadata": {},
   "outputs": [],
   "source": [
    "# Function to calculate Gmb\n",
    "def cal_gmb(Np, Bt, Bti, Bg, Rss,CGppp):\n",
    "    \"\"\"\n",
    "    Np   : Assumed Np/N ratio\n",
    "    Bt   : Bt at Required Presure\n",
    "    Bti  : Bt at Initial Pressure Reservoir Pressure\n",
    "    Bg   : Bg at required Pressure\n",
    "    Rss  : Initial GOR \n",
    "    CGppp: Cumulative Gas Production upto perivious pressure stage\n",
    "    \n",
    "    Return:\n",
    "    Gmb : \n",
    "    \"\"\"\n",
    "    return (((Bt-Bti)- Np*(Bt - Rss*Bg))/ Bg ) - CGppp \n",
    "\n",
    "# Function to calculate So\n",
    "def cal_so(Np, Bo, Boi, Swi):\n",
    "#     print(Np,\" \",Bo,\" \",Boi,\" \",Swi)\n",
    "    return (1- Np)*(Bo/Boi)*(1-Swi)\n",
    "\n",
    "# Function to calculate Kg/Ko\n",
    "def cal_kg_ko(So, *params):\n",
    "    n =0\n",
    "    r = np.zeros(So.shape)\n",
    "    for param in params:\n",
    "            r = r + param*np.power(So,n)\n",
    "            n = n + 1\n",
    "    return np.exp(r)\n",
    "\n",
    "# Function to calculate R\n",
    "def cal_R(kg_ko, vis_ratio, Bo, Bg, Rs):\n",
    "    return kg_ko*vis_ratio*(Bo/Bg)+ Rs\n",
    "\n",
    "# Function to calculate Ggor\n",
    "def cal_Ggor(Np, Rp, R, CNppp):\n",
    "    return 0.5 * (Rp + R) * (Np-CNppp)\n",
    "    \n",
    "# Function to calculate Gmb1 and Ggor1\n",
    "def cal_trail(Np,Bo,Boi,Bt,Bti,Bg,Rs,Rss,Rp,vis_ratio,CGppp,CNppp, Swi,K_coeff,sth):\n",
    "    Gmb = np.round(cal_gmb(Np , Bt, Bti, Bg, Rss,CGppp),6)\n",
    "    So = np.round(cal_so(Np,Bo,Boi,Swi),6)\n",
    "#     print(Np,\" \",Bo,\" \",Boi,\" \",So)\n",
    "    if So < sth:\n",
    "        K_ratio = np.round(cal_kg_ko(So, *K_coeff),6)\n",
    "    else :\n",
    "        K_ratio = np.asarray([0]) \n",
    "    R = np.round(cal_R(K_ratio, vis_ratio, Bo,Bg,Rs),6)\n",
    "    Ggor = np.round(cal_Ggor(Np,Rp,R,CNppp),6)\n",
    "    \n",
    "    return Gmb, Ggor, Gmb-Ggor"
   ]
  },
  {
   "cell_type": "code",
   "execution_count": 20,
   "metadata": {},
   "outputs": [],
   "source": [
    "# Function to calculate Bg\n",
    "def cal_Bg(Z , P):\n",
    "    return (14.7*1*Z*(460+175))/(Pressure*1*520*5.615)\n",
    "\n",
    "# Function to calculate Bt\n",
    "def cal_Bt(Bo, Bg, Rsi, Rs):\n",
    "    return Bo + (Rsi - Rs)* Bg"
   ]
  },
  {
   "cell_type": "code",
   "execution_count": 205,
   "metadata": {},
   "outputs": [],
   "source": [
    "#starting Np\n",
    "def solve_for_Np(Np_cal,Gp_cal,Rp_cal, Bo, Bg, Bt, Rs, vis_ratio,K_coeff, Swi = 0.15, delta = 0.01,index = 1, Np = 0.01,sth=1):\n",
    "    Bti = Bt[0]\n",
    "    Boi = Bo[0]\n",
    "    Rss = Rs[0]\n",
    "    \n",
    "    CGppp = np.sum(Gp_cal[:index])\n",
    "    CNppp = Np_cal[index-1]\n",
    "    \n",
    "    Rp = Rp_cal[index-1]\n",
    "    \n",
    "#     print(CGppp)\n",
    "    \n",
    "    curr_Gmb, curr_Gogr, prev_diff= cal_trail(Np, Bo[index],Boi, Bt[index],Bti,Bg[index], Rs[index], Rss, Rp,\n",
    "                                               vis_ratio[index],CGppp,CNppp, Swi, K_coeff,sth)\n",
    "#     print(curr_Gmb, curr_Gogr)\n",
    "    sign_change = False\n",
    "    curr_diff = prev_diff\n",
    "    l_Np = Np\n",
    "    r_Np = Np\n",
    "    while abs(curr_diff) > 0.0001:\n",
    "#         print(curr_diff,\"  \",Np)\n",
    "        if(sign_change == False):\n",
    "            if(curr_diff > 0):\n",
    "                Np = Np + delta\n",
    "            else:\n",
    "                Np = Np - delta\n",
    "        else:\n",
    "            Np = (l_Np + r_Np)*0.5 \n",
    "        curr_Gmb, curr_Gogr, curr_diff = cal_trail(Np, Bo[index],Boi, Bt[index],Bti,Bg[index], Rs[index],Rss, Rp,\n",
    "                                               vis_ratio[index],CGppp,CNppp, Swi, K_coeff,sth)\n",
    "        if(curr_diff * prev_diff < 0 ) :\n",
    "            sign_change = True\n",
    "        elif sign_change == False:\n",
    "            l_Np = Np\n",
    "            r_Np = Np\n",
    "        if(sign_change == True):\n",
    "            if(curr_diff > 0):\n",
    "                l_Np = Np\n",
    "            elif(curr_diff < 0):\n",
    "                r_Np = Np\n",
    "        prev_diff = curr_diff\n",
    "        \n",
    "    return curr_Gmb , Np , (curr_Gmb/(Np-CNppp) * 2) - Rp_cal[index-1]\n",
    "# solve_for_Np( Bo, Bg, Bt, Rs, vis_ratio, coeff,Swi = 0.15 )  "
   ]
  },
  {
   "cell_type": "code",
   "execution_count": 169,
   "metadata": {},
   "outputs": [],
   "source": [
    "# Pressure = valid_input(\"Enter Pressures psi (for calculation) \\n(comma seperated and no space):\",input_type=\"multi\")\n",
    "# Rs = valid_input(\"Enter Rs values  (scf/STB) \\n(only for pressure above or equal to bubble point pressure):\",input_type=\"multi\")\n",
    "# Bo = valid_input(\"Enter Formation volume factor Bo (Bbbl/STB):\",input_type=\"multi\")\n",
    "# vis_ratio = valid_input(\"Enter Oil/Gas viscocity ratio (1/psi):\",input_type=\"multi\")\n",
    "# if input(\"Want to enter Z(gas Compressibilty): y/n(if n then you need to input Bg)\" ) == \"y\":\n",
    "#     Z = valid_input(\"Enter gas Compressibilty factor (1/psi):\",input_type=\"multi\")\n",
    "# else :\n",
    "#     Bg = valid_input(\"Enter Bg (1/psi):\",input_type=\"multi\")"
   ]
  },
  {
   "cell_type": "code",
   "execution_count": 209,
   "metadata": {},
   "outputs": [
    {
     "data": {
      "text/plain": [
       "(array([ 0.      ,  1.211335,  1.579609,  1.972929,  2.609151,  3.474295,\n",
       "         5.262981,  5.429732,  7.092762,  7.342278,  8.177119,  9.082713,\n",
       "        10.66381 ,  9.188789, 14.406187]),\n",
       " array([0.        , 0.01416748, 0.03379028, 0.05992187, 0.09302856,\n",
       "        0.12983398, 0.17098511, 0.197724  , 0.21994751, 0.2360321 ,\n",
       "        0.24979279, 0.2624115 , 0.27563721, 0.28719635, 0.31325836]),\n",
       " array([ 88.        ,  83.00217681,  77.99511001,  73.00441695,\n",
       "         84.61635657, 104.17621841, 151.61174607, 254.51817741,\n",
       "        383.79339112, 529.16439549, 659.31151053, 780.25094362,\n",
       "        832.33720572, 757.53653271, 347.99493243]))"
      ]
     },
     "execution_count": 209,
     "metadata": {},
     "output_type": "execute_result"
    }
   ],
   "source": [
    "saturation_th = 0.897\n",
    "Bt = cal_Bt(Bo, Bg, Rs[0], Rs)\n",
    "Gp_cal = np.zeros(Pressure.shape[0])\n",
    "Np_cal = np.zeros(Pressure.shape[0])\n",
    "Rp_cal = np.zeros(Pressure.shape[0])\n",
    "Rp_cal[0] = Rs[0]\n",
    "for i in range(1,15):\n",
    "    Gp_cal[i] , Np_cal[i], Rp_cal[i] = solve_for_Np(Np_cal,Gp_cal,Rp_cal,Bo, Bg, Bt, Rs, vis_ratio, coeff, Swi = 0 , index = i, sth = saturation_th)\n",
    "    \n",
    "Gp_cal , Np_cal, Rp_cal"
   ]
  },
  {
   "cell_type": "code",
   "execution_count": 208,
   "metadata": {},
   "outputs": [
    {
     "name": "stderr",
     "output_type": "stream",
     "text": [
      "D:\\Program\\lib\\site-packages\\ipykernel\\__main__.py:1: RuntimeWarning: invalid value encountered in true_divide\n",
      "  if __name__ == '__main__':\n"
     ]
    },
    {
     "data": {
      "text/plain": [
       "array([        nan, 85.5010884 , 46.747433  , 32.92502112, 28.04677268,\n",
       "       26.75951922, 30.78034736, 27.46116823, 32.24752127, 31.10711577,\n",
       "       32.73560915, 34.61248091, 38.68784666, 31.99479728, 45.98819619])"
      ]
     },
     "execution_count": 208,
     "metadata": {},
     "output_type": "execute_result"
    }
   ],
   "source": [
    "Gp_cal/Np_cal"
   ]
  },
  {
   "cell_type": "code",
   "execution_count": 58,
   "metadata": {},
   "outputs": [],
   "source": [
    "coeff = [ 0.12845010e+02,  -0.22829311e+02, 0.90475397e-00]"
   ]
  },
  {
   "cell_type": "code",
   "execution_count": 217,
   "metadata": {},
   "outputs": [
    {
     "data": {
      "text/plain": [
       "array([  1.269    ,   1.287    ,   1.3119999,   1.3455   ,   1.391    ,\n",
       "         1.4514999,   1.546    ,   1.654    ,   1.8290001,   2.079    ,\n",
       "         2.519    ,   3.396    ,   5.7469997,  11.708    , 102.2      ],\n",
       "      dtype=float32)"
      ]
     },
     "execution_count": 217,
     "metadata": {},
     "output_type": "execute_result"
    }
   ],
   "source": [
    "cal_Bt(Bo, Bg, Rs[0], Rs)\n"
   ]
  },
  {
   "cell_type": "code",
   "execution_count": 124,
   "metadata": {},
   "outputs": [],
   "source": [
    "Rs=Rs/10"
   ]
  },
  {
   "cell_type": "code",
   "execution_count": 79,
   "metadata": {},
   "outputs": [
    {
     "ename": "NameError",
     "evalue": "name 'curve_fit_function' is not defined",
     "output_type": "error",
     "traceback": [
      "\u001b[0;31m---------------------------------------------------------------------------\u001b[0m",
      "\u001b[0;31mNameError\u001b[0m                                 Traceback (most recent call last)",
      "\u001b[0;32m<ipython-input-79-a7e1422974d6>\u001b[0m in \u001b[0;36m<module>\u001b[0;34m()\u001b[0m\n\u001b[0;32m----> 1\u001b[0;31m \u001b[0mnp\u001b[0m\u001b[1;33m.\u001b[0m\u001b[0mexp\u001b[0m\u001b[1;33m(\u001b[0m\u001b[0mcurve_fit_function\u001b[0m\u001b[1;33m(\u001b[0m\u001b[1;36m50\u001b[0m\u001b[1;33m,\u001b[0m \u001b[1;33m*\u001b[0m\u001b[0mcoeff\u001b[0m\u001b[1;33m)\u001b[0m\u001b[1;33m)\u001b[0m\u001b[1;33m\u001b[0m\u001b[0m\n\u001b[0m",
      "\u001b[0;31mNameError\u001b[0m: name 'curve_fit_function' is not defined"
     ]
    }
   ],
   "source": [
    "np.exp(curve_fit_function(50, *coeff))"
   ]
  },
  {
   "cell_type": "code",
   "execution_count": 137,
   "metadata": {},
   "outputs": [
    {
     "data": {
      "text/plain": [
       "array([2.18367299])"
      ]
     },
     "execution_count": 137,
     "metadata": {},
     "output_type": "execute_result"
    }
   ],
   "source": [
    "cal_kg_ko(np.asarray([0.54]), *coeff)"
   ]
  },
  {
   "cell_type": "code",
   "execution_count": 175,
   "metadata": {},
   "outputs": [
    {
     "data": {
      "text/plain": [
       "0.015000105"
      ]
     },
     "execution_count": 175,
     "metadata": {},
     "output_type": "execute_result"
    }
   ],
   "source": [
    "Bo[0]-Bo[1]"
   ]
  },
  {
   "cell_type": "code",
   "execution_count": 157,
   "metadata": {},
   "outputs": [
    {
     "data": {
      "text/plain": [
       "0.9782978723404256"
      ]
     },
     "execution_count": 157,
     "metadata": {},
     "output_type": "execute_result"
    }
   ],
   "source": [
    "0.99*(1.254/1.269)"
   ]
  },
  {
   "cell_type": "code",
   "execution_count": 182,
   "metadata": {},
   "outputs": [],
   "source": [
    "np.finfo(np.double).precision = 4"
   ]
  },
  {
   "cell_type": "code",
   "execution_count": 179,
   "metadata": {},
   "outputs": [
    {
     "data": {
      "text/plain": [
       "4"
      ]
     },
     "execution_count": 179,
     "metadata": {},
     "output_type": "execute_result"
    }
   ],
   "source": [
    "np.finfo(np.float32).precision "
   ]
  },
  {
   "cell_type": "code",
   "execution_count": 188,
   "metadata": {},
   "outputs": [
    {
     "data": {
      "text/plain": [
       "10000.0"
      ]
     },
     "execution_count": 188,
     "metadata": {},
     "output_type": "execute_result"
    }
   ],
   "source": [
    "np.round(10000.,4)"
   ]
  },
  {
   "cell_type": "code",
   "execution_count": 212,
   "metadata": {},
   "outputs": [],
   "source": [
    "import pickle\n"
   ]
  },
  {
   "cell_type": "code",
   "execution_count": 213,
   "metadata": {},
   "outputs": [
    {
     "name": "stdout",
     "output_type": "stream",
     "text": [
      "Enter reservoir name:r1\n"
     ]
    }
   ],
   "source": [
    "def save_reservoir_data(data)\n",
    "    name = input(\"Enter reservoir name:\")\n",
    "    with open(name+\".save\",'wb') as file:\n",
    "        pickle.dump(data,file)"
   ]
  },
  {
   "cell_type": "code",
   "execution_count": 215,
   "metadata": {},
   "outputs": [
    {
     "name": "stdout",
     "output_type": "stream",
     "text": [
      "Enter reservoir name:r1\n"
     ]
    }
   ],
   "source": [
    "def load_reservoir()\n",
    "    name = input(\"Enter reservoir name:\")\n",
    "    with open(name+\".save\",'rb') as file:\n",
    "        data = pickle.load(file)"
   ]
  },
  {
   "cell_type": "code",
   "execution_count": 216,
   "metadata": {},
   "outputs": [
    {
     "data": {
      "text/plain": [
       "(array([2000. , 1850. , 1700. , 1550. , 1400. , 1250. , 1100. ,  950. ,\n",
       "         800. ,  650. ,  500. ,  350. ,  200. ,  100. ,   14.4],\n",
       "       dtype=float32),\n",
       " array([88., 83., 78., 73., 68., 63., 58., 53., 48., 43., 38., 32., 24.,\n",
       "        16.,  0.], dtype=float32),\n",
       " array([1.269, 1.254, 1.239, 1.224, 1.209, 1.194, 1.189, 1.164, 1.149,\n",
       "        1.134, 1.119, 1.1  , 1.075, 1.052, 1.   ], dtype=float32),\n",
       " array([ 46. ,  49. ,  53. ,  57. ,  62. ,  67. ,  72. ,  77.5,  84. ,\n",
       "         91.5, 100. , 111. , 125. , 145. , 188. ], dtype=float32),\n",
       " array([0.0061, 0.0066, 0.0073, 0.0081, 0.0091, 0.0103, 0.0119, 0.014 ,\n",
       "        0.017 , 0.021 , 0.028 , 0.041 , 0.073 , 0.148 , 1.15  ],\n",
       "       dtype=float32))"
      ]
     },
     "execution_count": 216,
     "metadata": {},
     "output_type": "execute_result"
    }
   ],
   "source": [
    "data\n"
   ]
  },
  {
   "cell_type": "code",
   "execution_count": null,
   "metadata": {},
   "outputs": [],
   "source": [
    "(Pressure,Rs,Bo,vis_ratio,Bg)"
   ]
  }
 ],
 "metadata": {
  "kernelspec": {
   "display_name": "Python 3",
   "language": "python",
   "name": "python3"
  },
  "language_info": {
   "codemirror_mode": {
    "name": "ipython",
    "version": 3
   },
   "file_extension": ".py",
   "mimetype": "text/x-python",
   "name": "python",
   "nbconvert_exporter": "python",
   "pygments_lexer": "ipython3",
   "version": "3.6.4"
  }
 },
 "nbformat": 4,
 "nbformat_minor": 2
}
